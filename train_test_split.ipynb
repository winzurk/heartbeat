{
 "cells": [
  {
   "cell_type": "code",
   "execution_count": 1,
   "metadata": {},
   "outputs": [],
   "source": [
    "import os\n",
    "from shutil import copyfile\n",
    "from sklearn.model_selection import train_test_split\n",
    "import pandas as pd\n",
    "import random"
   ]
  },
  {
   "cell_type": "code",
   "execution_count": 2,
   "metadata": {},
   "outputs": [],
   "source": [
    "abnormal_filenames = os.listdir('./dataset/abnormal/')\n",
    "normal_filenames = os.listdir('./dataset/normal/')"
   ]
  },
  {
   "cell_type": "code",
   "execution_count": 3,
   "metadata": {},
   "outputs": [],
   "source": [
    "abnormal_filenames.sort()\n",
    "normal_filenames.sort()\n",
    "random.seed(404)\n",
    "random.shuffle(abnormal_filenames)\n",
    "random.shuffle(normal_filenames)"
   ]
  },
  {
   "cell_type": "code",
   "execution_count": 4,
   "metadata": {},
   "outputs": [
    {
     "name": "stdout",
     "output_type": "stream",
     "text": [
      "665\n",
      "2575\n"
     ]
    }
   ],
   "source": [
    "df_ab = pd.Series(data=abnormal_filenames)\n",
    "df_no = pd.Series(data=normal_filenames)\n",
    "print(len(df_ab))\n",
    "print(len(df_no))"
   ]
  },
  {
   "cell_type": "code",
   "execution_count": 5,
   "metadata": {},
   "outputs": [
    {
     "data": {
      "text/plain": [
       "0    f0082.wav\n",
       "1    a0379.wav\n",
       "2    f0103.wav\n",
       "3    f0047.wav\n",
       "4    a0218.wav\n",
       "dtype: object"
      ]
     },
     "execution_count": 5,
     "metadata": {},
     "output_type": "execute_result"
    }
   ],
   "source": [
    "df_ab.head()"
   ]
  },
  {
   "cell_type": "code",
   "execution_count": 6,
   "metadata": {},
   "outputs": [],
   "source": [
    "abnormal_train, abnormal_test = train_test_split(df_ab, test_size=150, shuffle=True, random_state=404)\n",
    "normal_train, normal_test = train_test_split(df_no, test_size=150, shuffle=True, random_state=404)"
   ]
  },
  {
   "cell_type": "code",
   "execution_count": 7,
   "metadata": {},
   "outputs": [
    {
     "name": "stdout",
     "output_type": "stream",
     "text": [
      "515\n",
      "150\n",
      "2425\n",
      "150\n"
     ]
    }
   ],
   "source": [
    "print(len(abnormal_train))\n",
    "print(len(abnormal_test))\n",
    "print(len(normal_train))\n",
    "print(len(normal_test))"
   ]
  },
  {
   "cell_type": "code",
   "execution_count": 8,
   "metadata": {},
   "outputs": [],
   "source": [
    "# move abnormal_train files to dir\n",
    "x = list(abnormal_train)\n",
    "for i in range(len(x)):\n",
    "    file_name = x[i]\n",
    "    src = 'dataset/abnormal/' + file_name\n",
    "    dst = 'data/train/abnormal/' + file_name\n",
    "    copyfile(src, dst)\n",
    "\n",
    "# move abnormal_test files to dir\n",
    "x = list(abnormal_test)\n",
    "for i in range(len(x)):\n",
    "    file_name = x[i]\n",
    "    src = 'dataset/abnormal/' + file_name\n",
    "    dst = 'data/test/abnormal/' + file_name\n",
    "    copyfile(src, dst)\n",
    "    \n",
    "# move normal_train files to dir\n",
    "x = list(normal_train)\n",
    "for i in range(len(x)):\n",
    "    file_name = x[i]\n",
    "    src = 'dataset/normal/' + file_name\n",
    "    dst = 'data/train/normal/' + file_name\n",
    "    copyfile(src, dst)\n",
    "    \n",
    "# move normal_test files to dir\n",
    "x = list(normal_test)\n",
    "for i in range(len(x)):\n",
    "    file_name = x[i]\n",
    "    src = 'dataset/normal/' + file_name\n",
    "    dst = 'data/test/normal/' + file_name\n",
    "    copyfile(src, dst)"
   ]
  }
 ],
 "metadata": {
  "kernelspec": {
   "display_name": "Python 3",
   "language": "python",
   "name": "python3"
  },
  "language_info": {
   "codemirror_mode": {
    "name": "ipython",
    "version": 3
   },
   "file_extension": ".py",
   "mimetype": "text/x-python",
   "name": "python",
   "nbconvert_exporter": "python",
   "pygments_lexer": "ipython3",
   "version": "3.6.4"
  }
 },
 "nbformat": 4,
 "nbformat_minor": 2
}
