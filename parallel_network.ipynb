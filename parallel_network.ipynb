{
 "cells": [
  {
   "cell_type": "markdown",
   "metadata": {},
   "source": [
    "### Detecting Heart Abnormalities from Phonocardiograms with Parallel Recurrent and Convolutional Neural Networks"
   ]
  },
  {
   "cell_type": "markdown",
   "metadata": {},
   "source": [
    "##### CNN with Spectrogram Features (Spatial) and BiLSTM with MFCC Features (Temporal)\n",
    "\n",
    "##### Dataset from PhysioNet Computing in Cardiology 2016 Challenge"
   ]
  },
  {
   "cell_type": "markdown",
   "metadata": {},
   "source": [
    "#### Test Helper Functions From Heart Module"
   ]
  },
  {
   "cell_type": "code",
   "execution_count": 2,
   "metadata": {},
   "outputs": [],
   "source": [
    "from heart import *\n",
    "import numpy as np\n",
    "from keras.utils import to_categorical\n",
    "from sklearn.model_selection import train_test_split\n",
    "import keras\n",
    "from keras import Model\n",
    "from keras.layers import Dense, Conv2D, LSTM, Bidirectional, MaxPooling2D, Flatten, Activation, Input, concatenate\n",
    "import warnings\n",
    "warnings.filterwarnings('ignore')"
   ]
  },
  {
   "cell_type": "code",
   "execution_count": 3,
   "metadata": {},
   "outputs": [
    {
     "data": {
      "text/plain": [
       "['abnormal', 'normal']"
      ]
     },
     "execution_count": 3,
     "metadata": {},
     "output_type": "execute_result"
    }
   ],
   "source": [
    "labels = get_labels('./data/classes/')\n",
    "labels[0]"
   ]
  },
  {
   "cell_type": "code",
   "execution_count": 4,
   "metadata": {},
   "outputs": [],
   "source": [
    "spec = wav2spec('data/sample_audio/a0001.wav')\n",
    "mfcc = wav2mfcc('data/sample_audio/a0001.wav')"
   ]
  },
  {
   "cell_type": "code",
   "execution_count": 5,
   "metadata": {},
   "outputs": [
    {
     "name": "stdout",
     "output_type": "stream",
     "text": [
      "(129, 47)\n",
      "(20, 47)\n"
     ]
    }
   ],
   "source": [
    "print(spec.shape)\n",
    "print(mfcc.shape)"
   ]
  },
  {
   "cell_type": "markdown",
   "metadata": {},
   "source": [
    "#### Save Dataset Features"
   ]
  },
  {
   "cell_type": "code",
   "execution_count": null,
   "metadata": {},
   "outputs": [],
   "source": [
    "save_data_to_mfcc_tensor(path='./data/train_seg/', max_seconds=4, dest_dir_path='./data/numpy/train/mfcc/')\n",
    "save_data_to_mfcc_tensor(path='./data/test_seg/', max_seconds=4, dest_dir_path='./data/numpy/test/mfcc/')"
   ]
  },
  {
   "cell_type": "code",
   "execution_count": null,
   "metadata": {},
   "outputs": [],
   "source": [
    "save_data_to_spec_tensor(path='./data/train_seg/', max_seconds=4, dest_dir_path='./data/numpy/train/spec/')\n",
    "save_data_to_spec_tensor(path='./data/test_seg/', max_seconds=4, dest_dir_path='./data/numpy/test/spec/')"
   ]
  },
  {
   "cell_type": "markdown",
   "metadata": {},
   "source": [
    "#### Load Features"
   ]
  },
  {
   "cell_type": "code",
   "execution_count": 6,
   "metadata": {},
   "outputs": [],
   "source": [
    "X_train_mfcc, y_train_mfcc = load_tensor_from_numpy(data_path='./data/classes/', numpy_path='./data/numpy/train/mfcc/')\n",
    "X_test_mfcc, y_test_mfcc = load_tensor_from_numpy(data_path='./data/classes/', numpy_path='./data/numpy/test/mfcc/')\n",
    "X_train_spec, y_train_spec = load_tensor_from_numpy(data_path='./data/classes/', numpy_path='./data/numpy/train/spec/')\n",
    "X_test_spec, y_test_spec = load_tensor_from_numpy(data_path='./data/classes/', numpy_path='./data/numpy/test/spec/')"
   ]
  },
  {
   "cell_type": "code",
   "execution_count": 7,
   "metadata": {},
   "outputs": [
    {
     "data": {
      "text/plain": [
       "array([ 0.,  0.,  0., ...,  1.,  1.,  1.])"
      ]
     },
     "execution_count": 7,
     "metadata": {},
     "output_type": "execute_result"
    }
   ],
   "source": [
    "y_train_mfcc"
   ]
  },
  {
   "cell_type": "code",
   "execution_count": 8,
   "metadata": {},
   "outputs": [
    {
     "data": {
      "text/plain": [
       "array([ 0.,  0.,  0., ...,  1.,  1.,  1.])"
      ]
     },
     "execution_count": 8,
     "metadata": {},
     "output_type": "execute_result"
    }
   ],
   "source": [
    "y_train_spec"
   ]
  },
  {
   "cell_type": "code",
   "execution_count": 9,
   "metadata": {},
   "outputs": [
    {
     "data": {
      "text/plain": [
       "(37452, 129, 63)"
      ]
     },
     "execution_count": 9,
     "metadata": {},
     "output_type": "execute_result"
    }
   ],
   "source": [
    "X_train_spec.shape"
   ]
  },
  {
   "cell_type": "code",
   "execution_count": 10,
   "metadata": {},
   "outputs": [
    {
     "data": {
      "text/plain": [
       "(37452, 20, 63)"
      ]
     },
     "execution_count": 10,
     "metadata": {},
     "output_type": "execute_result"
    }
   ],
   "source": [
    "X_train_mfcc.shape"
   ]
  },
  {
   "cell_type": "markdown",
   "metadata": {},
   "source": [
    "#### Shuffle Data Together and Reshape Tensors"
   ]
  },
  {
   "cell_type": "code",
   "execution_count": 11,
   "metadata": {},
   "outputs": [],
   "source": [
    "from sklearn.utils import shuffle"
   ]
  },
  {
   "cell_type": "code",
   "execution_count": 12,
   "metadata": {},
   "outputs": [],
   "source": [
    "X_train_mfcc, X_train_spec, y_train_mfcc, y_train_spec = shuffle(X_train_mfcc, X_train_spec, y_train_mfcc, y_train_spec, random_state=404)"
   ]
  },
  {
   "cell_type": "code",
   "execution_count": 13,
   "metadata": {},
   "outputs": [
    {
     "data": {
      "text/plain": [
       "array([ 1.,  1.,  1.,  1.,  1.,  0.,  1.,  1.,  1.,  0.])"
      ]
     },
     "execution_count": 13,
     "metadata": {},
     "output_type": "execute_result"
    }
   ],
   "source": [
    "y_train_mfcc[:10]"
   ]
  },
  {
   "cell_type": "code",
   "execution_count": 14,
   "metadata": {},
   "outputs": [
    {
     "data": {
      "text/plain": [
       "array([ 1.,  1.,  1.,  1.,  1.,  0.,  1.,  1.,  1.,  0.])"
      ]
     },
     "execution_count": 14,
     "metadata": {},
     "output_type": "execute_result"
    }
   ],
   "source": [
    "y_train_spec[:10]"
   ]
  },
  {
   "cell_type": "code",
   "execution_count": 15,
   "metadata": {},
   "outputs": [],
   "source": [
    "# Reshaping to perform 2D convolution\n",
    "X_train_mfcc = X_train_mfcc.reshape(X_train_mfcc.shape[0], 20, 63)\n",
    "X_train_spec = X_train_spec.reshape(X_train_spec.shape[0], 129, 63, 1)\n",
    "\n",
    "X_test_mfcc = X_test_mfcc.reshape(X_test_mfcc.shape[0], 20, 63)\n",
    "X_test_spec = X_test_spec.reshape(X_test_spec.shape[0], 129, 63, 1)\n",
    "\n",
    "y_train_hot = to_categorical(y_train_mfcc)\n",
    "y_test_hot = to_categorical(y_test_mfcc)"
   ]
  },
  {
   "cell_type": "markdown",
   "metadata": {},
   "source": [
    "#### Define Model Archetecture"
   ]
  },
  {
   "cell_type": "code",
   "execution_count": 16,
   "metadata": {},
   "outputs": [],
   "source": [
    "# Convolutional Network (spatial)\n",
    "input_spec = Input(shape=(129, 63, 1))\n",
    "x = Conv2D(64, (3, 3))(input_spec)\n",
    "x = Conv2D(64, (3, 3))(x)\n",
    "x = MaxPooling2D((2, 2))(x)\n",
    "flat = Flatten()(x)\n",
    "conv = Dense(128, activation='relu')(flat)                   \n",
    "                   \n",
    "\n",
    "# LSTM (temporal)\n",
    "input_mfcc = Input(shape=X_train_mfcc.shape[1:])\n",
    "r = Bidirectional(LSTM(output_dim=120, init='uniform', inner_init='uniform',\n",
    "                       forget_bias_init='one', activation='tanh', inner_activation='sigmoid', dropout=0.2, return_sequences=True))(input_mfcc)\n",
    "r = Bidirectional(LSTM(output_dim=120, init='uniform', inner_init='uniform',\n",
    "                       forget_bias_init='one', activation='tanh', inner_activation='sigmoid', dropout=0.2, return_sequences=True))(r)\n",
    "r = Flatten()(r)\n",
    "r = Dense(128, activation='relu')(r)\n",
    "\n",
    "#Concatenate & Fully Connected Layers\n",
    "z = concatenate([conv, r], axis=-1)\n",
    "z = Dense(256, activation='relu')(z)\n",
    "z = Dense(128, activation='relu')(z)\n",
    "output = Dense(2, activation='softmax')(z)\n",
    "\n",
    "model = Model([input_spec, input_mfcc], outputs=output)"
   ]
  },
  {
   "cell_type": "code",
   "execution_count": 17,
   "metadata": {},
   "outputs": [],
   "source": [
    "model.compile(optimizer='adam', loss='categorical_crossentropy', metrics=['acc'])"
   ]
  },
  {
   "cell_type": "markdown",
   "metadata": {},
   "source": [
    "#### Training Model"
   ]
  },
  {
   "cell_type": "code",
   "execution_count": null,
   "metadata": {},
   "outputs": [],
   "source": [
    "model.fit([X_train_spec, X_train_mfcc], y_train_hot, epochs=3, batch_size=100, validation_split=0.1)"
   ]
  },
  {
   "cell_type": "code",
   "execution_count": 18,
   "metadata": {},
   "outputs": [],
   "source": [
    "#model.save('models/parallel_v3.h5')\n",
    "model.load_weights('models/parallel_v3.h5')"
   ]
  },
  {
   "cell_type": "code",
   "execution_count": 20,
   "metadata": {},
   "outputs": [
    {
     "name": "stdout",
     "output_type": "stream",
     "text": [
      "1221/1221 [==============================] - 16s 13ms/step\n"
     ]
    }
   ],
   "source": [
    "y_prob = model.predict([X_test_spec, X_test_mfcc], batch_size=32, verbose=1)"
   ]
  },
  {
   "cell_type": "code",
   "execution_count": 21,
   "metadata": {},
   "outputs": [
    {
     "data": {
      "text/plain": [
       "(1221, 2)"
      ]
     },
     "execution_count": 21,
     "metadata": {},
     "output_type": "execute_result"
    }
   ],
   "source": [
    "y_prob.shape"
   ]
  },
  {
   "cell_type": "markdown",
   "metadata": {},
   "source": [
    "#### Metrics"
   ]
  },
  {
   "cell_type": "code",
   "execution_count": 22,
   "metadata": {},
   "outputs": [],
   "source": [
    "from sklearn.metrics import accuracy_score\n",
    "from sklearn.metrics import roc_auc_score\n",
    "from sklearn.metrics import confusion_matrix\n",
    "from sklearn.metrics import classification_report\n",
    "import scikitplot as skplt\n",
    "from scikitplot.metrics import plot_confusion_matrix\n",
    "import matplotlib.pyplot as plt"
   ]
  },
  {
   "cell_type": "code",
   "execution_count": 23,
   "metadata": {},
   "outputs": [
    {
     "name": "stdout",
     "output_type": "stream",
     "text": [
      "0.917473829052\n"
     ]
    }
   ],
   "source": [
    "print(roc_auc_score(y_test_mfcc, y_prob[:,1]))"
   ]
  },
  {
   "cell_type": "code",
   "execution_count": 24,
   "metadata": {},
   "outputs": [
    {
     "data": {
      "image/png": "[encoded data removed]",
      "text/plain": [
       "<matplotlib.figure.Figure at 0x13285efd0>"
      ]
     },
     "metadata": {},
     "output_type": "display_data"
    }
   ],
   "source": [
    "skplt.metrics.plot_precision_recall_curve(y_test_mfcc, y_prob)\n",
    "plt.show()"
   ]
  },
  {
   "cell_type": "markdown",
   "metadata": {},
   "source": [
    "#### Define Cutoff"
   ]
  },
  {
   "cell_type": "code",
   "execution_count": 25,
   "metadata": {},
   "outputs": [],
   "source": [
    "labels = (y_prob > 0.9994).astype(np.int)\n",
    "labels = labels[:,1]"
   ]
  },
  {
   "cell_type": "code",
   "execution_count": 26,
   "metadata": {},
   "outputs": [
    {
     "name": "stdout",
     "output_type": "stream",
     "text": [
      "0.866502866503\n"
     ]
    }
   ],
   "source": [
    "print(accuracy_score(y_test_mfcc, labels))"
   ]
  },
  {
   "cell_type": "code",
   "execution_count": 27,
   "metadata": {},
   "outputs": [
    {
     "data": {
      "image/png": "[encoded data removed]",
      "text/plain": [
       "<matplotlib.figure.Figure at 0x12d082e80>"
      ]
     },
     "metadata": {},
     "output_type": "display_data"
    }
   ],
   "source": [
    "plot_confusion_matrix(y_test_mfcc, labels)\n",
    "plt.show()"
   ]
  },
  {
   "cell_type": "code",
   "execution_count": 28,
   "metadata": {},
   "outputs": [
    {
     "name": "stdout",
     "output_type": "stream",
     "text": [
      "             precision    recall  f1-score   support\n",
      "\n",
      "   abnormal       0.86      0.90      0.88       656\n",
      "     normal       0.88      0.83      0.85       565\n",
      "\n",
      "avg / total       0.87      0.87      0.87      1221\n",
      "\n"
     ]
    }
   ],
   "source": [
    "from sklearn.metrics import classification_report\n",
    "target_names = ['abnormal', 'normal']\n",
    "print(classification_report(y_test_mfcc, labels, target_names=target_names))"
   ]
  },
  {
   "cell_type": "markdown",
   "metadata": {},
   "source": [
    "#### Single Sample Prediction "
   ]
  },
  {
   "cell_type": "code",
   "execution_count": 29,
   "metadata": {},
   "outputs": [],
   "source": [
    "# Predicts one sample\n",
    "def predict(file_path, model):\n",
    "    mfcc = wav2mfcc(file_path, max_seconds=4)\n",
    "    spec = wav2spec(file_path, max_seconds=4)\n",
    "    mfcc = mfcc.reshape(1, 20, 63)\n",
    "    spec = spec.reshape(1, 129, 63, 1)\n",
    "    x = model.predict([spec, mfcc])\n",
    "    if (x[:][0][1] < 0.99):\n",
    "        return ('abnormal : ' + str(x[:][0][1]))\n",
    "    else:\n",
    "        return ('normal : ' + str(x[:][0][1]))"
   ]
  },
  {
   "cell_type": "code",
   "execution_count": 31,
   "metadata": {},
   "outputs": [
    {
     "data": {
      "text/plain": [
       "'normal : 0.999399'"
      ]
     },
     "execution_count": 31,
     "metadata": {},
     "output_type": "execute_result"
    }
   ],
   "source": [
    "predict('data/sample_audio/normal.wav', model)"
   ]
  },
  {
   "cell_type": "code",
   "execution_count": 32,
   "metadata": {},
   "outputs": [
    {
     "data": {
      "text/plain": [
       "'abnormal : 0.0848314'"
      ]
     },
     "execution_count": 32,
     "metadata": {},
     "output_type": "execute_result"
    }
   ],
   "source": [
    "predict('data/sample_audio/murmur.wav', model)"
   ]
  }
 ],
 "metadata": {
  "kernelspec": {
   "display_name": "Python 3",
   "language": "python",
   "name": "python3"
  },
  "language_info": {
   "codemirror_mode": {
    "name": "ipython",
    "version": 3
   },
   "file_extension": ".py",
   "mimetype": "text/x-python",
   "name": "python",
   "nbconvert_exporter": "python",
   "pygments_lexer": "ipython3",
   "version": "3.6.4"
  }
 },
 "nbformat": 4,
 "nbformat_minor": 2
}
