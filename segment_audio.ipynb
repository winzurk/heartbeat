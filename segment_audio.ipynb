{
 "cells": [
  {
   "cell_type": "code",
   "execution_count": 1,
   "metadata": {},
   "outputs": [],
   "source": [
    "import librosa\n",
    "import numpy as np\n",
    "import math\n",
    "import os\n",
    "\n",
    "def dir2seg(path='/DATA', seconds=4, dest='/DATA'):\n",
    "\n",
    "    wavefiles = os.listdir(path)\n",
    "    \n",
    "    for wavefile in wavefiles:\n",
    "        wavefilepath = path + wavefile\n",
    "        wave, sr = librosa.load(wavefilepath, mono=True, sr=2000)\n",
    "        \n",
    "        start = 0\n",
    "        seg_len = (2000*seconds)\n",
    "        stop = seg_len\n",
    "        num_segs = math.floor(len(wave)/seg_len)\n",
    "        \n",
    "        for i in range(1, num_segs):\n",
    "            segment = wave[start:stop]\n",
    "            librosa.output.write_wav(dest + wavefile[:-4] + '_' + str(i) + '.wav', segment, 2000)\n",
    "            start += seg_len\n",
    "            stop += seg_len"
   ]
  },
  {
   "cell_type": "code",
   "execution_count": 2,
   "metadata": {},
   "outputs": [],
   "source": [
    "def dir2seg_oversample(path='/DATA', seconds=4, dest='/DATA'):\n",
    "\n",
    "    wavefiles = os.listdir(path)\n",
    "    \n",
    "    for wavefile in wavefiles:\n",
    "        wavefilepath = path + wavefile\n",
    "        wave, sr = librosa.load(wavefilepath, mono=True, sr=2000)\n",
    "        \n",
    "        start = 0\n",
    "        seg_len = (2000*seconds)\n",
    "        stop = seg_len\n",
    "        num_segs = math.floor(len(wave)/(seg_len)) - 1\n",
    "\n",
    "        for i in range(1, num_segs):\n",
    "            segment = wave[start:stop]\n",
    "            segment_2 = wave[start+1000:stop+1000]\n",
    "            segment_3 = wave[start+3000:stop+3000]\n",
    "            segment_4 = wave[start+5000:stop+5000]\n",
    "            librosa.output.write_wav(dest + wavefile[:-4] + '_' + str(i) + '_1' + '.wav', segment, 2000)\n",
    "            librosa.output.write_wav(dest + wavefile[:-4] + '_' + str(i) + '_2' + '.wav', segment, 2000)\n",
    "            librosa.output.write_wav(dest + wavefile[:-4] + '_' + str(i) + '_3' + '.wav', segment, 2000)\n",
    "            librosa.output.write_wav(dest + wavefile[:-4] + '_' + str(i) + '_4' + '.wav', segment, 2000)\n",
    "            start += seg_len\n",
    "            stop += seg_len"
   ]
  },
  {
   "cell_type": "code",
   "execution_count": 7,
   "metadata": {},
   "outputs": [],
   "source": [
    "dir2seg_oversample(path='./data/train/normal/', seconds=4, dest='./data/train_seg/normal/')\n",
    "dir2seg_oversample(path='./data/train/abnormal/', seconds=4, dest='./data/train_seg/abnormal/')"
   ]
  },
  {
   "cell_type": "code",
   "execution_count": 8,
   "metadata": {},
   "outputs": [],
   "source": [
    "dir2seg(path='./data/test/abnormal/', seconds=4, dest='./data/test_seg/abnormal/')\n",
    "dir2seg(path='./data/test/normal/', seconds=4, dest='./data/test_seg/normal/')"
   ]
  },
  {
   "cell_type": "code",
   "execution_count": null,
   "metadata": {},
   "outputs": [],
   "source": []
  }
 ],
 "metadata": {
  "kernelspec": {
   "display_name": "Python 3",
   "language": "python",
   "name": "python3"
  },
  "language_info": {
   "codemirror_mode": {
    "name": "ipython",
    "version": 3
   },
   "file_extension": ".py",
   "mimetype": "text/x-python",
   "name": "python",
   "nbconvert_exporter": "python",
   "pygments_lexer": "ipython3",
   "version": "3.6.4"
  }
 },
 "nbformat": 4,
 "nbformat_minor": 2
}
